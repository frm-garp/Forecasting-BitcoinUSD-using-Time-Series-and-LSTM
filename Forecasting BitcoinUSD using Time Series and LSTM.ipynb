{
 "cells": [
  {
   "cell_type": "code",
   "execution_count": 1,
   "metadata": {},
   "outputs": [],
   "source": [
    "import numpy as np\n",
    "import pandas as pd\n",
    "import matplotlib.pyplot as plt\n",
    "import warnings\n",
    "from sklearn.metrics import mean_absolute_error\n",
    "from tensorflow.keras.models import Sequential\n",
    "from tensorflow.keras.layers import Dense, LSTM, Dropout, Flatten"
   ]
  },
  {
   "cell_type": "code",
   "execution_count": 2,
   "metadata": {},
   "outputs": [
    {
     "data": {
      "text/html": [
       "<div>\n",
       "<style scoped>\n",
       "    .dataframe tbody tr th:only-of-type {\n",
       "        vertical-align: middle;\n",
       "    }\n",
       "\n",
       "    .dataframe tbody tr th {\n",
       "        vertical-align: top;\n",
       "    }\n",
       "\n",
       "    .dataframe thead th {\n",
       "        text-align: right;\n",
       "    }\n",
       "</style>\n",
       "<table border=\"1\" class=\"dataframe\">\n",
       "  <thead>\n",
       "    <tr style=\"text-align: right;\">\n",
       "      <th></th>\n",
       "      <th>Timestamp</th>\n",
       "      <th>Open</th>\n",
       "      <th>High</th>\n",
       "      <th>Low</th>\n",
       "      <th>Close</th>\n",
       "      <th>Volume_(BTC)</th>\n",
       "      <th>Volume_(Currency)</th>\n",
       "      <th>Weighted_Price</th>\n",
       "    </tr>\n",
       "  </thead>\n",
       "  <tbody>\n",
       "    <tr>\n",
       "      <th>0</th>\n",
       "      <td>1325317920</td>\n",
       "      <td>4.39</td>\n",
       "      <td>4.39</td>\n",
       "      <td>4.39</td>\n",
       "      <td>4.39</td>\n",
       "      <td>0.455581</td>\n",
       "      <td>2.0</td>\n",
       "      <td>4.39</td>\n",
       "    </tr>\n",
       "    <tr>\n",
       "      <th>1</th>\n",
       "      <td>1325317980</td>\n",
       "      <td>NaN</td>\n",
       "      <td>NaN</td>\n",
       "      <td>NaN</td>\n",
       "      <td>NaN</td>\n",
       "      <td>NaN</td>\n",
       "      <td>NaN</td>\n",
       "      <td>NaN</td>\n",
       "    </tr>\n",
       "    <tr>\n",
       "      <th>2</th>\n",
       "      <td>1325318040</td>\n",
       "      <td>NaN</td>\n",
       "      <td>NaN</td>\n",
       "      <td>NaN</td>\n",
       "      <td>NaN</td>\n",
       "      <td>NaN</td>\n",
       "      <td>NaN</td>\n",
       "      <td>NaN</td>\n",
       "    </tr>\n",
       "    <tr>\n",
       "      <th>3</th>\n",
       "      <td>1325318100</td>\n",
       "      <td>NaN</td>\n",
       "      <td>NaN</td>\n",
       "      <td>NaN</td>\n",
       "      <td>NaN</td>\n",
       "      <td>NaN</td>\n",
       "      <td>NaN</td>\n",
       "      <td>NaN</td>\n",
       "    </tr>\n",
       "    <tr>\n",
       "      <th>4</th>\n",
       "      <td>1325318160</td>\n",
       "      <td>NaN</td>\n",
       "      <td>NaN</td>\n",
       "      <td>NaN</td>\n",
       "      <td>NaN</td>\n",
       "      <td>NaN</td>\n",
       "      <td>NaN</td>\n",
       "      <td>NaN</td>\n",
       "    </tr>\n",
       "  </tbody>\n",
       "</table>\n",
       "</div>"
      ],
      "text/plain": [
       "    Timestamp  Open  High   Low  Close  Volume_(BTC)  Volume_(Currency)  \\\n",
       "0  1325317920  4.39  4.39  4.39   4.39      0.455581                2.0   \n",
       "1  1325317980   NaN   NaN   NaN    NaN           NaN                NaN   \n",
       "2  1325318040   NaN   NaN   NaN    NaN           NaN                NaN   \n",
       "3  1325318100   NaN   NaN   NaN    NaN           NaN                NaN   \n",
       "4  1325318160   NaN   NaN   NaN    NaN           NaN                NaN   \n",
       "\n",
       "   Weighted_Price  \n",
       "0            4.39  \n",
       "1             NaN  \n",
       "2             NaN  \n",
       "3             NaN  \n",
       "4             NaN  "
      ]
     },
     "execution_count": 2,
     "metadata": {},
     "output_type": "execute_result"
    }
   ],
   "source": [
    "bit_data = pd.read_csv(\"bitstampUSD_1-min_data_2012-01-01_to_2020-09-14.csv\")\n",
    "bit_data.head()"
   ]
  },
  {
   "cell_type": "code",
   "execution_count": 3,
   "metadata": {},
   "outputs": [
    {
     "name": "stdout",
     "output_type": "stream",
     "text": [
      "<class 'pandas.core.frame.DataFrame'>\n",
      "RangeIndex: 4572257 entries, 0 to 4572256\n",
      "Data columns (total 8 columns):\n",
      " #   Column             Dtype  \n",
      "---  ------             -----  \n",
      " 0   Timestamp          int64  \n",
      " 1   Open               float64\n",
      " 2   High               float64\n",
      " 3   Low                float64\n",
      " 4   Close              float64\n",
      " 5   Volume_(BTC)       float64\n",
      " 6   Volume_(Currency)  float64\n",
      " 7   Weighted_Price     float64\n",
      "dtypes: float64(7), int64(1)\n",
      "memory usage: 279.1 MB\n"
     ]
    }
   ],
   "source": [
    "bit_data.info()"
   ]
  },
  {
   "cell_type": "code",
   "execution_count": 4,
   "metadata": {},
   "outputs": [],
   "source": [
    "bit_data[\"date\"] = pd.to_datetime(bit_data[\"Timestamp\"],unit=\"s\").dt.date\n",
    "group = bit_data.groupby(\"date\")\n",
    "data = group[\"Close\"].mean()"
   ]
  },
  {
   "cell_type": "code",
   "execution_count": 5,
   "metadata": {},
   "outputs": [
    {
     "data": {
      "text/html": [
       "<div>\n",
       "<style scoped>\n",
       "    .dataframe tbody tr th:only-of-type {\n",
       "        vertical-align: middle;\n",
       "    }\n",
       "\n",
       "    .dataframe tbody tr th {\n",
       "        vertical-align: top;\n",
       "    }\n",
       "\n",
       "    .dataframe thead th {\n",
       "        text-align: right;\n",
       "    }\n",
       "</style>\n",
       "<table border=\"1\" class=\"dataframe\">\n",
       "  <thead>\n",
       "    <tr style=\"text-align: right;\">\n",
       "      <th></th>\n",
       "      <th>Timestamp</th>\n",
       "      <th>Open</th>\n",
       "      <th>High</th>\n",
       "      <th>Low</th>\n",
       "      <th>Close</th>\n",
       "      <th>Volume_(BTC)</th>\n",
       "      <th>Volume_(Currency)</th>\n",
       "      <th>Weighted_Price</th>\n",
       "      <th>date</th>\n",
       "    </tr>\n",
       "  </thead>\n",
       "  <tbody>\n",
       "    <tr>\n",
       "      <th>0</th>\n",
       "      <td>1325317920</td>\n",
       "      <td>4.39</td>\n",
       "      <td>4.39</td>\n",
       "      <td>4.39</td>\n",
       "      <td>4.39</td>\n",
       "      <td>0.455581</td>\n",
       "      <td>2.000000</td>\n",
       "      <td>4.390000</td>\n",
       "      <td>2011-12-31</td>\n",
       "    </tr>\n",
       "    <tr>\n",
       "      <th>478</th>\n",
       "      <td>1325346600</td>\n",
       "      <td>4.39</td>\n",
       "      <td>4.39</td>\n",
       "      <td>4.39</td>\n",
       "      <td>4.39</td>\n",
       "      <td>48.000000</td>\n",
       "      <td>210.720000</td>\n",
       "      <td>4.390000</td>\n",
       "      <td>2011-12-31</td>\n",
       "    </tr>\n",
       "    <tr>\n",
       "      <th>547</th>\n",
       "      <td>1325350740</td>\n",
       "      <td>4.50</td>\n",
       "      <td>4.57</td>\n",
       "      <td>4.50</td>\n",
       "      <td>4.57</td>\n",
       "      <td>37.862297</td>\n",
       "      <td>171.380338</td>\n",
       "      <td>4.526411</td>\n",
       "      <td>2011-12-31</td>\n",
       "    </tr>\n",
       "    <tr>\n",
       "      <th>548</th>\n",
       "      <td>1325350800</td>\n",
       "      <td>4.58</td>\n",
       "      <td>4.58</td>\n",
       "      <td>4.58</td>\n",
       "      <td>4.58</td>\n",
       "      <td>9.000000</td>\n",
       "      <td>41.220000</td>\n",
       "      <td>4.580000</td>\n",
       "      <td>2011-12-31</td>\n",
       "    </tr>\n",
       "    <tr>\n",
       "      <th>1224</th>\n",
       "      <td>1325391360</td>\n",
       "      <td>4.58</td>\n",
       "      <td>4.58</td>\n",
       "      <td>4.58</td>\n",
       "      <td>4.58</td>\n",
       "      <td>1.502000</td>\n",
       "      <td>6.879160</td>\n",
       "      <td>4.580000</td>\n",
       "      <td>2012-01-01</td>\n",
       "    </tr>\n",
       "  </tbody>\n",
       "</table>\n",
       "</div>"
      ],
      "text/plain": [
       "       Timestamp  Open  High   Low  Close  Volume_(BTC)  Volume_(Currency)  \\\n",
       "0     1325317920  4.39  4.39  4.39   4.39      0.455581           2.000000   \n",
       "478   1325346600  4.39  4.39  4.39   4.39     48.000000         210.720000   \n",
       "547   1325350740  4.50  4.57  4.50   4.57     37.862297         171.380338   \n",
       "548   1325350800  4.58  4.58  4.58   4.58      9.000000          41.220000   \n",
       "1224  1325391360  4.58  4.58  4.58   4.58      1.502000           6.879160   \n",
       "\n",
       "      Weighted_Price        date  \n",
       "0           4.390000  2011-12-31  \n",
       "478         4.390000  2011-12-31  \n",
       "547         4.526411  2011-12-31  \n",
       "548         4.580000  2011-12-31  \n",
       "1224        4.580000  2012-01-01  "
      ]
     },
     "execution_count": 5,
     "metadata": {},
     "output_type": "execute_result"
    }
   ],
   "source": [
    "bit_data.dropna().head()"
   ]
  },
  {
   "cell_type": "code",
   "execution_count": 6,
   "metadata": {},
   "outputs": [
    {
     "name": "stdout",
     "output_type": "stream",
     "text": [
      "<class 'pandas.core.frame.DataFrame'>\n",
      "RangeIndex: 4572257 entries, 0 to 4572256\n",
      "Data columns (total 9 columns):\n",
      " #   Column             Dtype  \n",
      "---  ------             -----  \n",
      " 0   Timestamp          int64  \n",
      " 1   Open               float64\n",
      " 2   High               float64\n",
      " 3   Low                float64\n",
      " 4   Close              float64\n",
      " 5   Volume_(BTC)       float64\n",
      " 6   Volume_(Currency)  float64\n",
      " 7   Weighted_Price     float64\n",
      " 8   date               object \n",
      "dtypes: float64(7), int64(1), object(1)\n",
      "memory usage: 314.0+ MB\n"
     ]
    }
   ],
   "source": [
    "bit_data.info()"
   ]
  },
  {
   "cell_type": "code",
   "execution_count": 7,
   "metadata": {},
   "outputs": [
    {
     "data": {
      "text/plain": [
       "(3178,)"
      ]
     },
     "execution_count": 7,
     "metadata": {},
     "output_type": "execute_result"
    }
   ],
   "source": [
    "data.shape"
   ]
  },
  {
   "cell_type": "code",
   "execution_count": 8,
   "metadata": {},
   "outputs": [],
   "source": [
    "close_train = data.iloc[:len(data)-60]\n",
    "close_test = data.iloc[len(close_train):]"
   ]
  },
  {
   "cell_type": "code",
   "execution_count": 9,
   "metadata": {},
   "outputs": [],
   "source": [
    "close_train = np.array(close_train)\n",
    "close_train = close_train.reshape(close_train.shape[0],1)\n",
    "from sklearn.preprocessing import MinMaxScaler\n",
    "scaler = MinMaxScaler(feature_range=(0,1))\n",
    "close_scaled = scaler.fit_transform(close_train)"
   ]
  },
  {
   "cell_type": "code",
   "execution_count": 10,
   "metadata": {},
   "outputs": [
    {
     "name": "stdout",
     "output_type": "stream",
     "text": [
      "3118\n",
      "60\n"
     ]
    }
   ],
   "source": [
    "print(len(close_train))\n",
    "print(len(close_test))"
   ]
  },
  {
   "cell_type": "code",
   "execution_count": 11,
   "metadata": {},
   "outputs": [],
   "source": [
    "timestep = 60\n",
    "x_train = []\n",
    "y_train = []\n",
    "for i in range(timestep, close_scaled.shape[0]):\n",
    "    x_train.append(close_scaled[i-timestep:i,0])\n",
    "    y_train.append(close_scaled[i,0])"
   ]
  },
  {
   "cell_type": "code",
   "execution_count": 12,
   "metadata": {},
   "outputs": [
    {
     "name": "stdout",
     "output_type": "stream",
     "text": [
      "x-train shape =  (3058, 60, 1)\n",
      "y-train shape =  (3058,)\n"
     ]
    }
   ],
   "source": [
    "x_train, y_train = np.array(x_train), np.array(y_train)\n",
    "x_train = x_train.reshape(x_train.shape[0], x_train.shape[1],1) # reshaped for RNN\n",
    "print(\"x-train shape = \", x_train.shape)\n",
    "print(\"y-train shape = \", y_train.shape)"
   ]
  },
  {
   "cell_type": "code",
   "execution_count": 13,
   "metadata": {},
   "outputs": [
    {
     "name": "stdout",
     "output_type": "stream",
     "text": [
      "Train on 3058 samples\n",
      "Epoch 1/50\n",
      "3058/3058 [==============================] - 9s 3ms/sample - loss: 0.0049\n",
      "Epoch 2/50\n",
      "3058/3058 [==============================] - 5s 2ms/sample - loss: 0.0021\n",
      "Epoch 3/50\n",
      "3058/3058 [==============================] - 5s 2ms/sample - loss: 0.0017\n",
      "Epoch 4/50\n",
      "3058/3058 [==============================] - 6s 2ms/sample - loss: 0.0015\n",
      "Epoch 5/50\n",
      "3058/3058 [==============================] - 6s 2ms/sample - loss: 0.0013\n",
      "Epoch 6/50\n",
      "3058/3058 [==============================] - 5s 2ms/sample - loss: 0.0011\n",
      "Epoch 7/50\n",
      "3058/3058 [==============================] - 5s 2ms/sample - loss: 0.0011\n",
      "Epoch 8/50\n",
      "3058/3058 [==============================] - 6s 2ms/sample - loss: 9.9234e-04\n",
      "Epoch 9/50\n",
      "3058/3058 [==============================] - 5s 2ms/sample - loss: 9.5474e-04\n",
      "Epoch 10/50\n",
      "3058/3058 [==============================] - 5s 2ms/sample - loss: 7.8897e-04\n",
      "Epoch 11/50\n",
      "3058/3058 [==============================] - 5s 2ms/sample - loss: 9.0478e-04\n",
      "Epoch 12/50\n",
      "3058/3058 [==============================] - 5s 2ms/sample - loss: 8.5255e-04\n",
      "Epoch 13/50\n",
      "3058/3058 [==============================] - 5s 2ms/sample - loss: 8.4045e-04\n",
      "Epoch 14/50\n",
      "3058/3058 [==============================] - 5s 2ms/sample - loss: 7.8523e-04\n",
      "Epoch 15/50\n",
      "3058/3058 [==============================] - 6s 2ms/sample - loss: 8.1129e-04\n",
      "Epoch 16/50\n",
      "3058/3058 [==============================] - 5s 2ms/sample - loss: 7.6347e-04\n",
      "Epoch 17/50\n",
      "3058/3058 [==============================] - 6s 2ms/sample - loss: 7.8040e-04\n",
      "Epoch 18/50\n",
      "3058/3058 [==============================] - 6s 2ms/sample - loss: 6.7070e-04\n",
      "Epoch 19/50\n",
      "3058/3058 [==============================] - 5s 2ms/sample - loss: 7.6161e-04\n",
      "Epoch 20/50\n",
      "3058/3058 [==============================] - 5s 2ms/sample - loss: 6.2072e-04\n",
      "Epoch 21/50\n",
      "3058/3058 [==============================] - 6s 2ms/sample - loss: 6.7286e-04\n",
      "Epoch 22/50\n",
      "3058/3058 [==============================] - 5s 2ms/sample - loss: 6.4316e-04\n",
      "Epoch 23/50\n",
      "3058/3058 [==============================] - 5s 2ms/sample - loss: 5.7086e-04\n",
      "Epoch 24/50\n",
      "3058/3058 [==============================] - 6s 2ms/sample - loss: 6.2671e-04\n",
      "Epoch 25/50\n",
      "3058/3058 [==============================] - 5s 2ms/sample - loss: 5.6663e-04\n",
      "Epoch 26/50\n",
      "3058/3058 [==============================] - 5s 2ms/sample - loss: 5.5566e-04\n",
      "Epoch 27/50\n",
      "3058/3058 [==============================] - 5s 2ms/sample - loss: 6.3186e-04\n",
      "Epoch 28/50\n",
      "3058/3058 [==============================] - 4s 1ms/sample - loss: 5.1765e-04\n",
      "Epoch 29/50\n",
      "3058/3058 [==============================] - 5s 2ms/sample - loss: 5.4340e-04 1s - lo\n",
      "Epoch 30/50\n",
      "3058/3058 [==============================] - 5s 1ms/sample - loss: 5.6472e-04\n",
      "Epoch 31/50\n",
      "3058/3058 [==============================] - 5s 1ms/sample - loss: 5.6460e-04\n",
      "Epoch 32/50\n",
      "3058/3058 [==============================] - 5s 2ms/sample - loss: 5.6628e-04\n",
      "Epoch 33/50\n",
      "3058/3058 [==============================] - 5s 2ms/sample - loss: 5.5499e-04\n",
      "Epoch 34/50\n",
      "3058/3058 [==============================] - 5s 2ms/sample - loss: 4.9253e-04 1s - ETA: 0s - loss: 4.9741e-0\n",
      "Epoch 35/50\n",
      "3058/3058 [==============================] - 5s 2ms/sample - loss: 5.0569e-04\n",
      "Epoch 36/50\n",
      "3058/3058 [==============================] - 5s 2ms/sample - loss: 5.4920e-04\n",
      "Epoch 37/50\n",
      "3058/3058 [==============================] - 6s 2ms/sample - loss: 4.6235e-04\n",
      "Epoch 38/50\n",
      "3058/3058 [==============================] - 6s 2ms/sample - loss: 5.0412e-04\n",
      "Epoch 39/50\n",
      "3058/3058 [==============================] - 6s 2ms/sample - loss: 5.1183e-04\n",
      "Epoch 40/50\n",
      "3058/3058 [==============================] - 7s 2ms/sample - loss: 4.8589e-04\n",
      "Epoch 41/50\n",
      "3058/3058 [==============================] - 7s 2ms/sample - loss: 4.4934e-04\n",
      "Epoch 42/50\n",
      "3058/3058 [==============================] - 6s 2ms/sample - loss: 4.9309e-04\n",
      "Epoch 43/50\n",
      "3058/3058 [==============================] - 5s 2ms/sample - loss: 5.0277e-04\n",
      "Epoch 44/50\n",
      "3058/3058 [==============================] - 5s 2ms/sample - loss: 4.7789e-04\n",
      "Epoch 45/50\n",
      "3058/3058 [==============================] - 5s 2ms/sample - loss: 4.3454e-04 0s - loss: 4.439\n",
      "Epoch 46/50\n",
      "3058/3058 [==============================] - 5s 2ms/sample - loss: 4.7072e-04\n",
      "Epoch 47/50\n",
      "3058/3058 [==============================] - 5s 2ms/sample - loss: 4.4325e-04\n",
      "Epoch 48/50\n",
      "3058/3058 [==============================] - 5s 2ms/sample - loss: 4.2862e-04\n",
      "Epoch 49/50\n",
      "3058/3058 [==============================] - 5s 2ms/sample - loss: 4.2064e-04\n",
      "Epoch 50/50\n",
      "3058/3058 [==============================] - 5s 2ms/sample - loss: 4.6197e-04\n"
     ]
    },
    {
     "data": {
      "text/plain": [
       "<tensorflow.python.keras.callbacks.History at 0x241e3fafcc8>"
      ]
     },
     "execution_count": 13,
     "metadata": {},
     "output_type": "execute_result"
    }
   ],
   "source": [
    "from sklearn.metrics import mean_absolute_error\n",
    "from tensorflow.keras.models import Sequential\n",
    "from tensorflow.keras.layers import Dense, LSTM, Dropout, Flatten\n",
    "\n",
    "modell = Sequential()\n",
    "modell.add(LSTM(50, return_sequences=True, input_shape=(x_train.shape[1],1)))\n",
    "modell.add(Dropout(0.2))\n",
    "modell.add(LSTM(100, return_sequences=False))\n",
    "modell.add(Dropout(0.2))\n",
    "modell.add(Dense(1))\n",
    "\n",
    "modell.compile(loss=\"mean_squared_error\", optimizer=\"rmsprop\")\n",
    "\n",
    "modell.fit(x_train, y_train, epochs=50, batch_size=64)"
   ]
  },
  {
   "cell_type": "code",
   "execution_count": 14,
   "metadata": {},
   "outputs": [],
   "source": [
    "inputs = data[len(data)-len(close_test)-timestep:]\n",
    "inputs = inputs.values.reshape(-1,1)\n",
    "inputs = scaler.transform(inputs)"
   ]
  },
  {
   "cell_type": "code",
   "execution_count": 15,
   "metadata": {},
   "outputs": [],
   "source": [
    "x_test = []\n",
    "for i in range(timestep, inputs.shape[0]):\n",
    "    x_test.append(inputs[i-timestep:i,0])"
   ]
  },
  {
   "cell_type": "code",
   "execution_count": 16,
   "metadata": {},
   "outputs": [],
   "source": [
    "x_test = np.array(x_test)\n",
    "x_test = x_test.reshape(x_test.shape[0], x_test.shape[1],1) # reshaped for RNN"
   ]
  },
  {
   "cell_type": "code",
   "execution_count": 17,
   "metadata": {},
   "outputs": [],
   "source": [
    "predicted_data = modell.predict(x_test)\n",
    "predicted_data = scaler.inverse_transform(predicted_data)"
   ]
  },
  {
   "cell_type": "code",
   "execution_count": 18,
   "metadata": {},
   "outputs": [],
   "source": [
    "data_test = np.array(close_test)\n",
    "data_test = data_test.reshape(len(data_test),1)"
   ]
  },
  {
   "cell_type": "code",
   "execution_count": 19,
   "metadata": {},
   "outputs": [
    {
     "data": {
      "image/png": "[encoded data removed]",
      "text/plain": [
       "<Figure size 640x320 with 1 Axes>"
      ]
     },
     "metadata": {},
     "output_type": "display_data"
    }
   ],
   "source": [
    "plt.figure(figsize=(8,4), dpi=80, facecolor='w', edgecolor='k')\n",
    "plt.plot(data_test, color='r', label='true-result')\n",
    "plt.plot(predicted_data, color='g', label='predicted-result')\n",
    "plt.legend()\n",
    "plt.title(\"LSTM\")\n",
    "plt.xlabel(\"Time(60 days)\")\n",
    "plt.ylabel(\"Close Values\")\n",
    "plt.grid(True)\n",
    "plt.show()"
   ]
  }
 ],
 "metadata": {
  "kernelspec": {
   "display_name": "Python 3",
   "language": "python",
   "name": "python3"
  },
  "language_info": {
   "codemirror_mode": {
    "name": "ipython",
    "version": 3
   },
   "file_extension": ".py",
   "mimetype": "text/x-python",
   "name": "python",
   "nbconvert_exporter": "python",
   "pygments_lexer": "ipython3",
   "version": "3.7.4"
  }
 },
 "nbformat": 4,
 "nbformat_minor": 4
}
